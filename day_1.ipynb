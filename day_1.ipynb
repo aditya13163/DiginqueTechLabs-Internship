{
  "nbformat": 4,
  "nbformat_minor": 0,
  "metadata": {
    "colab": {
      "provenance": []
    },
    "kernelspec": {
      "name": "python3",
      "display_name": "Python 3"
    },
    "language_info": {
      "name": "python"
    }
  },
  "cells": [
    {
      "cell_type": "markdown",
      "source": [
        "**Python Basics**\n",
        "  * Conditional programming\n",
        "  * Loops - for/while\n",
        "  * functions"
      ],
      "metadata": {
        "id": "TVxExwr8JR-_"
      }
    },
    {
      "cell_type": "code",
      "execution_count": null,
      "metadata": {
        "colab": {
          "base_uri": "https://localhost:8080/"
        },
        "id": "t2y_sdbQJE8Q",
        "outputId": "106aaa11-1e8c-469e-c77a-a78ce928c14d"
      },
      "outputs": [
        {
          "output_type": "stream",
          "name": "stdout",
          "text": [
            "You are allowed to vote\n"
          ]
        }
      ],
      "source": [
        "age = 21\n",
        "\n",
        "if age > 18:\n",
        "  print(\"You are allowed to vote\")\n",
        "else:\n",
        "  print(\"You are not allowed to vote\")"
      ]
    },
    {
      "cell_type": "code",
      "source": [
        "#if mark_obtained > 40 then print(\"Pass\") else print(\"Fail\")\n",
        "\n",
        "mark_obtained = int(input(\"Enter mark obtained:-\"))       #in python user entered values are non-numerical\n",
        "\n",
        "if mark_obtained >= 40:\n",
        "  print(\"Pass\")\n",
        "else:\n",
        "  print(\"Fail\")"
      ],
      "metadata": {
        "colab": {
          "base_uri": "https://localhost:8080/"
        },
        "id": "_uz7ty2nJhRu",
        "outputId": "6d3d4968-069f-422c-e0e9-788bdb9cac7c"
      },
      "execution_count": null,
      "outputs": [
        {
          "output_type": "stream",
          "name": "stdout",
          "text": [
            "Enter mark obtained:-55\n",
            "Pass\n"
          ]
        }
      ]
    },
    {
      "cell_type": "code",
      "source": [
        "#Multiple conditions\n",
        "\n",
        "#marks >= 80 => Pass with Excelence\n",
        "#marks >= 60 => Pass with First Class\n",
        "#marks >= 40 => Pass\n",
        "#marks < 40 => Fail\n",
        "\n",
        "mark_obtained = int(input(\"Enter mark obtained:-\"))       #in python user entered values are non-numerical\n",
        "\n",
        "if mark_obtained >= 80:\n",
        "  print(\"Pass with excellence\")\n",
        "if mark_obtained >= 60:\n",
        "  print(\"Pass with First class\")\n",
        "if mark_obtained >= 40:\n",
        "  print(\"Pass\")\n",
        "if mark_obtained < 40:\n",
        "  print(\"Fail\")"
      ],
      "metadata": {
        "colab": {
          "base_uri": "https://localhost:8080/"
        },
        "id": "CHrJz7b5KQMc",
        "outputId": "2bef549a-1ee1-458f-aa7a-22fbf9f98df8"
      },
      "execution_count": null,
      "outputs": [
        {
          "output_type": "stream",
          "name": "stdout",
          "text": [
            "Enter mark obtained:-89\n",
            "Pass with excellence\n",
            "Pass with First class\n",
            "Pass\n"
          ]
        }
      ]
    },
    {
      "cell_type": "code",
      "source": [
        "#marks >= 80 => Pass with Excelence\n",
        "#marks >= 60 => Pass with First Class\n",
        "#marks >= 40 => Pass\n",
        "#marks < 40 => Fail\n",
        "\n",
        "mark_obtained = int(input(\"Enter mark obtained:-\"))       #in python user entered values are non-numerical\n",
        "\n",
        "if mark_obtained >= 80:\n",
        "  print(\"Pass with excellence\")\n",
        "elif mark_obtained >= 60:\n",
        "  print(\"Pass with First class\")\n",
        "elif mark_obtained >= 40:\n",
        "  print(\"Pass\")\n",
        "elif mark_obtained < 40:\n",
        "  print(\"Fail\")\n",
        "else:\n",
        "  print(\"Enter a acceptable value\")"
      ],
      "metadata": {
        "colab": {
          "base_uri": "https://localhost:8080/"
        },
        "id": "D5idFUlZLXix",
        "outputId": "19685a62-0853-4451-c48e-48c87a41998b"
      },
      "execution_count": null,
      "outputs": [
        {
          "output_type": "stream",
          "name": "stdout",
          "text": [
            "Enter mark obtained:-55\n",
            "Pass\n"
          ]
        }
      ]
    },
    {
      "cell_type": "code",
      "source": [
        "#WAP to check user entered age\n",
        "#If age is more then 65 then print => \"You can get senior citizen disvount\"\n",
        "#if age is more then 20 then print => \"You can get seasonal discount\"\n",
        "#for age less then 20 print => You can get campus/student discount\n",
        "\n",
        "age=int(input(\"Enter your age:\"))\n",
        "\n",
        "if age > 65:\n",
        "  print(\"You can get senior citizen disvount\")\n",
        "elif age > 20:\n",
        "  print(\"You can get seasonal discount\")\n",
        "else:\n",
        "  print(\"You can get campus/student discount\")"
      ],
      "metadata": {
        "colab": {
          "base_uri": "https://localhost:8080/"
        },
        "id": "ZTF-2-bvL3cg",
        "outputId": "b302ce9d-9ae3-4b8d-988c-d2073b240972"
      },
      "execution_count": null,
      "outputs": [
        {
          "output_type": "stream",
          "name": "stdout",
          "text": [
            "Enter your age:15\n",
            "You can get campus/student discount\n"
          ]
        }
      ]
    },
    {
      "cell_type": "code",
      "source": [
        "#login program\n",
        "\n",
        "ulogin = input(\"Enter UserId\")\n",
        "upassword = input(\"Enter password\")\n",
        "\n",
        "#compare login is \"admin\" and password is \"password\" then print => \"Login Successfull\"\n",
        "#else print => \"Login failed\"\n",
        "\n",
        "if ulogin == \"admin\" and upassword == \"password\":\n",
        "  print(\"Login Successfull\")\n",
        "else:\n",
        "  print(\"Login failed\")"
      ],
      "metadata": {
        "colab": {
          "base_uri": "https://localhost:8080/"
        },
        "id": "hwBbJt74N3WY",
        "outputId": "9f9bf2fa-4807-4017-ada0-616db5b04103"
      },
      "execution_count": null,
      "outputs": [
        {
          "output_type": "stream",
          "name": "stdout",
          "text": [
            "Enter UserIdadgj\n",
            "Enter passwordhjkl\n",
            "Login failed\n"
          ]
        }
      ]
    },
    {
      "cell_type": "markdown",
      "source": [
        "**Loops - for loop**"
      ],
      "metadata": {
        "id": "LDIhsFbbPIvo"
      }
    },
    {
      "cell_type": "code",
      "source": [
        "print(\"Hello World\")\n",
        "print(\"Hello World\")\n",
        "print(\"Hello World\")\n",
        "print(\"Hello World\")\n",
        "print(\"Hello World\")"
      ],
      "metadata": {
        "colab": {
          "base_uri": "https://localhost:8080/"
        },
        "id": "aarAH37XPFor",
        "outputId": "0cf3a96c-6caa-4d63-b438-766c3c19b593"
      },
      "execution_count": null,
      "outputs": [
        {
          "output_type": "stream",
          "name": "stdout",
          "text": [
            "Hello World\n",
            "Hello World\n",
            "Hello World\n",
            "Hello World\n",
            "Hello World\n"
          ]
        }
      ]
    },
    {
      "cell_type": "code",
      "source": [
        "for i in range(0,5):\n",
        "  print(\"Hello World\")"
      ],
      "metadata": {
        "colab": {
          "base_uri": "https://localhost:8080/"
        },
        "id": "vcarv6NkPQds",
        "outputId": "849d79b0-6899-4293-d2d4-cb9d69627b49"
      },
      "execution_count": null,
      "outputs": [
        {
          "output_type": "stream",
          "name": "stdout",
          "text": [
            "Hello World\n",
            "Hello World\n",
            "Hello World\n",
            "Hello World\n",
            "Hello World\n"
          ]
        }
      ]
    },
    {
      "cell_type": "code",
      "source": [
        "for i in range(0,3):\n",
        "  ulogin = input(\"Enter UserId\")\n",
        "  upassword = input(\"Enter password\")\n",
        "\n",
        "  if ulogin == 'admin' and upassword == 'password':\n",
        "    print(\"Login Successfull\")\n",
        "    break\n",
        "  else:\n",
        "    print(\"try again\")"
      ],
      "metadata": {
        "colab": {
          "base_uri": "https://localhost:8080/"
        },
        "id": "ZPxcStJvPbBx",
        "outputId": "3c9b2694-05a4-4f6c-fe0d-646e5787a774"
      },
      "execution_count": null,
      "outputs": [
        {
          "output_type": "stream",
          "name": "stdout",
          "text": [
            "Enter UserIdfghj\n",
            "Enter passwordfghj\n",
            "try again\n",
            "Enter UserIdadmin\n",
            "Enter passwordpassword\n",
            "Login Successfull\n"
          ]
        }
      ]
    },
    {
      "cell_type": "code",
      "source": [
        "salaries = [45000,55000,40000,60000,30000]\n",
        "\n",
        "#Write a program to increses the salary by 10%\n",
        "\n",
        "salaries[0] = salaries[0] + salaries[0]*0.1\n",
        "salaries[1] = salaries[1] + salaries[1]*0.1\n",
        "salaries[2] = salaries[2] + salaries[2]*0.1\n",
        "salaries[3] = salaries[3] + salaries[3]*0.1\n",
        "salaries[4] = salaries[4] + salaries[4]*0.1\n",
        "\n",
        "print(salaries)"
      ],
      "metadata": {
        "colab": {
          "base_uri": "https://localhost:8080/"
        },
        "id": "uxP-guGfPtGK",
        "outputId": "36c50cad-e232-4f72-ae27-4f25bec552a7"
      },
      "execution_count": null,
      "outputs": [
        {
          "output_type": "stream",
          "name": "stdout",
          "text": [
            "[49500.0, 60500.0, 44000.0, 66000.0, 33000.0]\n"
          ]
        }
      ]
    },
    {
      "cell_type": "code",
      "source": [
        "salaries = [45000,55000,40000,60000,30000]\n",
        "\n",
        "for i in range(0,5):\n",
        "  salaries[i] = salaries[i] + salaries[i] * 0.1\n",
        "\n",
        "print(salaries)"
      ],
      "metadata": {
        "colab": {
          "base_uri": "https://localhost:8080/"
        },
        "id": "qo8kwu2UQc9M",
        "outputId": "6d9a41b5-6d94-4d22-b71a-7e0a569bc7b1"
      },
      "execution_count": null,
      "outputs": [
        {
          "output_type": "stream",
          "name": "stdout",
          "text": [
            "[49500.0, 60500.0, 44000.0, 66000.0, 33000.0]\n"
          ]
        }
      ]
    },
    {
      "cell_type": "code",
      "source": [
        "salaries = [45000,55000,40000,60000,30000]\n",
        "\n",
        "updated_salaries = []\n",
        "\n",
        "for value in salaries:\n",
        "  new_salary = value + value * 0.1\n",
        "  updated_salaries.append(new_salary)\n",
        "\n",
        "print(updated_salaries)"
      ],
      "metadata": {
        "colab": {
          "base_uri": "https://localhost:8080/"
        },
        "id": "VnWGUwJDRYeY",
        "outputId": "186bb419-7285-4ae6-9694-1c44c10e724d"
      },
      "execution_count": null,
      "outputs": [
        {
          "output_type": "stream",
          "name": "stdout",
          "text": [
            "[49500.0, 60500.0, 44000.0, 66000.0, 33000.0]\n"
          ]
        }
      ]
    },
    {
      "cell_type": "markdown",
      "source": [
        "**Loop - While loop**"
      ],
      "metadata": {
        "id": "gQAeYLDCTK4H"
      }
    },
    {
      "cell_type": "code",
      "source": [
        "if True:\n",
        "  print(\"Hello World!!\")"
      ],
      "metadata": {
        "colab": {
          "base_uri": "https://localhost:8080/"
        },
        "id": "BvmJksvuR50c",
        "outputId": "c6a9629d-134a-496b-b8d3-7d2ddb5ef58f"
      },
      "execution_count": null,
      "outputs": [
        {
          "output_type": "stream",
          "name": "stdout",
          "text": [
            "Hello World!!\n"
          ]
        }
      ]
    },
    {
      "cell_type": "code",
      "source": [
        "i = 0\n",
        "while i < 7:\n",
        "  print(i , \"Hello World!!\")\n",
        "  i = i + 1"
      ],
      "metadata": {
        "colab": {
          "base_uri": "https://localhost:8080/"
        },
        "id": "ajKzd7y6TTEI",
        "outputId": "d199787a-e8cc-4a2b-91c5-5c4481d41f67"
      },
      "execution_count": null,
      "outputs": [
        {
          "output_type": "stream",
          "name": "stdout",
          "text": [
            "0 Hello World!!\n",
            "1 Hello World!!\n",
            "2 Hello World!!\n",
            "3 Hello World!!\n",
            "4 Hello World!!\n",
            "5 Hello World!!\n",
            "6 Hello World!!\n"
          ]
        }
      ]
    },
    {
      "cell_type": "code",
      "source": [
        "#WAP for login which can give mutiple chances to enter user id and password until they entered correctly\n",
        "\n",
        "ulogin = \"\"\n",
        "upass = \"\"\n",
        "\n",
        "while ulogin != \"admin\" or upass != \"password\":\n",
        "  ulogin = input(\"Enter UserId\")\n",
        "  upass = input(\"Enter password\")\n",
        "else:\n",
        "  print(\"Login Successfull\")"
      ],
      "metadata": {
        "colab": {
          "base_uri": "https://localhost:8080/"
        },
        "id": "PyppOFaqTasG",
        "outputId": "72365958-6c7f-44bd-a9c8-a7829e567890"
      },
      "execution_count": null,
      "outputs": [
        {
          "output_type": "stream",
          "name": "stdout",
          "text": [
            "Enter UserIddfghj\n",
            "Enter passwordhjkl;\n",
            "Enter UserIdadmin\n",
            "Enter passwordghjk\n",
            "Enter UserIddfghj\n",
            "Enter passwordpassword\n",
            "Enter UserIdadmin\n",
            "Enter passwordpassword\n",
            "Login Successfull\n"
          ]
        }
      ]
    },
    {
      "cell_type": "markdown",
      "source": [
        "**function**"
      ],
      "metadata": {
        "id": "AqcILAbCVrku"
      }
    },
    {
      "cell_type": "code",
      "source": [
        "def say_hello():\n",
        "  print(\"Hello World\")"
      ],
      "metadata": {
        "id": "GsikUGS2VT8S"
      },
      "execution_count": null,
      "outputs": []
    },
    {
      "cell_type": "code",
      "source": [
        "say_hello()\n",
        "say_hello()"
      ],
      "metadata": {
        "colab": {
          "base_uri": "https://localhost:8080/"
        },
        "id": "SM7sEdmGWDj_",
        "outputId": "251dabf7-019f-47de-82f7-39d959b91da7"
      },
      "execution_count": null,
      "outputs": [
        {
          "output_type": "stream",
          "name": "stdout",
          "text": [
            "Hello World\n",
            "Hello World\n"
          ]
        }
      ]
    },
    {
      "cell_type": "code",
      "source": [
        "def do_sum(a,b):\n",
        "  c = a + b\n",
        "  print(c)\n",
        "\n",
        "do_sum(7,4)\n",
        "do_sum(3,2)"
      ],
      "metadata": {
        "colab": {
          "base_uri": "https://localhost:8080/"
        },
        "id": "S9ZwZU5CWKhK",
        "outputId": "4d5a864a-2a4b-46da-abe2-c3d659353cfc"
      },
      "execution_count": null,
      "outputs": [
        {
          "output_type": "stream",
          "name": "stdout",
          "text": [
            "11\n",
            "5\n"
          ]
        }
      ]
    },
    {
      "cell_type": "code",
      "source": [
        "#create a function to check a number is even or odd..?\n",
        "\n",
        "#print(7 % 2)\n",
        "#print(8 % 2)\n",
        "\n",
        "def evenorodd(num):\n",
        "  if num%2 == 1:\n",
        "    print(\"Odd\")\n",
        "  else:\n",
        "    print(\"Even\")"
      ],
      "metadata": {
        "id": "NAUXDOKuWU_x"
      },
      "execution_count": null,
      "outputs": []
    },
    {
      "cell_type": "code",
      "source": [
        "evenorodd(9)\n",
        "evenorodd(10)"
      ],
      "metadata": {
        "colab": {
          "base_uri": "https://localhost:8080/"
        },
        "id": "uFhykNKtXG1R",
        "outputId": "08fcd594-9208-4c0e-de5e-b8cee8d2f28d"
      },
      "execution_count": null,
      "outputs": [
        {
          "output_type": "stream",
          "name": "stdout",
          "text": [
            "Odd\n",
            "Even\n"
          ]
        }
      ]
    },
    {
      "cell_type": "code",
      "source": [
        "from pickle import TRUE\n",
        "#Create a function to check login\n",
        "\n",
        "def login(uname,upass):\n",
        "  if uname == \"admin\" and upass == \"password\":\n",
        "    print(\"Login Successfull\")\n",
        "    return True\n",
        "  else:\n",
        "    print(\"Login failed\")\n",
        "    return False"
      ],
      "metadata": {
        "id": "ixwVnOMQZA69"
      },
      "execution_count": null,
      "outputs": []
    },
    {
      "cell_type": "code",
      "source": [
        "login_id = input(\"Enter User Id\")\n",
        "login_password = input(\"Enter Password\")\n",
        "\n",
        "status = login(login_id,login_password)\n",
        "print(status)"
      ],
      "metadata": {
        "colab": {
          "base_uri": "https://localhost:8080/"
        },
        "id": "9EvjKfqfZO_b",
        "outputId": "39415da6-3fd2-499b-d396-46dc7a519d9d"
      },
      "execution_count": null,
      "outputs": [
        {
          "output_type": "stream",
          "name": "stdout",
          "text": [
            "Enter User Idadmin\n",
            "Enter Passwordpassword\n",
            "Login Successfull\n",
            "True\n"
          ]
        }
      ]
    },
    {
      "cell_type": "code",
      "source": [
        "for i in range(0,3):\n",
        "  login_id = input(\"Enter User Id\")\n",
        "  login_password = input(\"Enter Password\")\n",
        "\n",
        "  status = login(login_id,login_password)\n",
        "  if status == True:\n",
        "    break"
      ],
      "metadata": {
        "colab": {
          "base_uri": "https://localhost:8080/"
        },
        "id": "mJhz4cbkZrdg",
        "outputId": "60070a08-c653-46cc-b052-8acd5364a648"
      },
      "execution_count": null,
      "outputs": [
        {
          "output_type": "stream",
          "name": "stdout",
          "text": [
            "Enter User Iddfgh\n",
            "Enter Passworddfghj\n",
            "Login failed\n",
            "Enter User Idadmin\n",
            "Enter Passwordpasswprd\n",
            "Login failed\n",
            "Enter User Idadmin\n",
            "Enter Passwordpassword\n",
            "Login Successfull\n"
          ]
        }
      ]
    },
    {
      "cell_type": "code",
      "source": [
        "#Return type\n",
        "result = do_sum(9,4)\n",
        "print(result)"
      ],
      "metadata": {
        "colab": {
          "base_uri": "https://localhost:8080/"
        },
        "id": "PIq-eDz-XXj8",
        "outputId": "4eb68359-30c8-416b-b8ad-2b1c1fd244c0"
      },
      "execution_count": null,
      "outputs": [
        {
          "output_type": "stream",
          "name": "stdout",
          "text": [
            "13\n",
            "None\n"
          ]
        }
      ]
    },
    {
      "cell_type": "code",
      "source": [
        "print(do_sum(9,4) * 3)"
      ],
      "metadata": {
        "colab": {
          "base_uri": "https://localhost:8080/",
          "height": 167
        },
        "id": "TDYlKw8mYCqE",
        "outputId": "7b6a0504-cab6-489a-80ce-59c4545cf3dd"
      },
      "execution_count": null,
      "outputs": [
        {
          "output_type": "stream",
          "name": "stdout",
          "text": [
            "13\n"
          ]
        },
        {
          "output_type": "error",
          "ename": "TypeError",
          "evalue": "unsupported operand type(s) for *: 'NoneType' and 'int'",
          "traceback": [
            "\u001b[0;31m---------------------------------------------------------------------------\u001b[0m",
            "\u001b[0;31mTypeError\u001b[0m                                 Traceback (most recent call last)",
            "\u001b[0;32m<ipython-input-65-08de5fd40cff>\u001b[0m in \u001b[0;36m<cell line: 1>\u001b[0;34m()\u001b[0m\n\u001b[0;32m----> 1\u001b[0;31m \u001b[0mprint\u001b[0m\u001b[0;34m(\u001b[0m\u001b[0mdo_sum\u001b[0m\u001b[0;34m(\u001b[0m\u001b[0;36m9\u001b[0m\u001b[0;34m,\u001b[0m\u001b[0;36m4\u001b[0m\u001b[0;34m)\u001b[0m \u001b[0;34m*\u001b[0m \u001b[0;36m3\u001b[0m\u001b[0;34m)\u001b[0m\u001b[0;34m\u001b[0m\u001b[0;34m\u001b[0m\u001b[0m\n\u001b[0m",
            "\u001b[0;31mTypeError\u001b[0m: unsupported operand type(s) for *: 'NoneType' and 'int'"
          ]
        }
      ]
    },
    {
      "cell_type": "code",
      "source": [
        "def calc_sum(a,b):\n",
        "  c = a + b\n",
        "  return c"
      ],
      "metadata": {
        "id": "ISKsnGruXd0C"
      },
      "execution_count": null,
      "outputs": []
    },
    {
      "cell_type": "code",
      "source": [
        "result = calc_sum(9,4)\n",
        "print(result)"
      ],
      "metadata": {
        "colab": {
          "base_uri": "https://localhost:8080/"
        },
        "id": "w9euTJ74X4wl",
        "outputId": "c1755c30-1663-422b-90b7-36fc537062f1"
      },
      "execution_count": null,
      "outputs": [
        {
          "output_type": "stream",
          "name": "stdout",
          "text": [
            "13\n"
          ]
        }
      ]
    },
    {
      "cell_type": "code",
      "source": [
        "print(calc_sum(9,4) * 3)"
      ],
      "metadata": {
        "colab": {
          "base_uri": "https://localhost:8080/"
        },
        "id": "IxAZAQsLX6JV",
        "outputId": "6932e51a-0339-47e8-be65-e5944c4dc11a"
      },
      "execution_count": null,
      "outputs": [
        {
          "output_type": "stream",
          "name": "stdout",
          "text": [
            "39\n"
          ]
        }
      ]
    },
    {
      "cell_type": "code",
      "source": [
        "def my_demo_func(x,y):\n",
        "  z = x ** y\n",
        "  print(z)\n",
        "  return z"
      ],
      "metadata": {
        "id": "XPlOPp3xYAvy"
      },
      "execution_count": null,
      "outputs": []
    },
    {
      "cell_type": "code",
      "source": [
        "result = my_demo_func(10,3)\n",
        "print(\"Square root of result\" , result**0.5)"
      ],
      "metadata": {
        "colab": {
          "base_uri": "https://localhost:8080/"
        },
        "id": "1aw5wNpVbops",
        "outputId": "054cd3ea-954d-49a8-8431-54de5cd6e6ce"
      },
      "execution_count": null,
      "outputs": [
        {
          "output_type": "stream",
          "name": "stdout",
          "text": [
            "1000\n",
            "Square root of result 31.622776601683793\n"
          ]
        }
      ]
    },
    {
      "cell_type": "code",
      "source": [
        "for i in range(0,10):\n",
        "  if i == 7:\n",
        "    break\n",
        "  print(i)\n"
      ],
      "metadata": {
        "colab": {
          "base_uri": "https://localhost:8080/"
        },
        "id": "wCa6Wfd5bq3y",
        "outputId": "92f711b7-02ff-4fed-c8a5-ee59f6bd5e88"
      },
      "execution_count": null,
      "outputs": [
        {
          "output_type": "stream",
          "name": "stdout",
          "text": [
            "0\n",
            "1\n",
            "2\n",
            "3\n",
            "4\n",
            "5\n",
            "6\n"
          ]
        }
      ]
    },
    {
      "cell_type": "code",
      "source": [
        "for i in range(0,10):\n",
        "  if i == 7:\n",
        "    continue\n",
        "  print(i)"
      ],
      "metadata": {
        "colab": {
          "base_uri": "https://localhost:8080/"
        },
        "id": "o2mjD9jpcUtx",
        "outputId": "e47c2aff-0f88-4649-e91e-7e51ec0aef28"
      },
      "execution_count": null,
      "outputs": [
        {
          "output_type": "stream",
          "name": "stdout",
          "text": [
            "0\n",
            "1\n",
            "2\n",
            "3\n",
            "4\n",
            "5\n",
            "6\n",
            "8\n",
            "9\n"
          ]
        }
      ]
    },
    {
      "cell_type": "code",
      "source": [],
      "metadata": {
        "id": "L55kGDmDcdoy"
      },
      "execution_count": null,
      "outputs": []
    }
  ]
}
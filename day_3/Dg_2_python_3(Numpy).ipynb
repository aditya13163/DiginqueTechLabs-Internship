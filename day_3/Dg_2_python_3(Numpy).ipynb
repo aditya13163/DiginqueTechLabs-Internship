{
  "nbformat": 4,
  "nbformat_minor": 0,
  "metadata": {
    "colab": {
      "provenance": []
    },
    "kernelspec": {
      "name": "python3",
      "display_name": "Python 3"
    },
    "language_info": {
      "name": "python"
    }
  },
  "cells": [
    {
      "cell_type": "markdown",
      "source": [
        "**Python Module for Data Science - Numpy**"
      ],
      "metadata": {
        "id": "xoNFZbd0dfjQ"
      }
    },
    {
      "cell_type": "code",
      "source": [
        "x = 9\n",
        "print(x * 2)"
      ],
      "metadata": {
        "colab": {
          "base_uri": "https://localhost:8080/"
        },
        "id": "vY_8_Sxsd-11",
        "outputId": "5c99faea-e434-4ca7-b0a7-4d3f85fcfe09"
      },
      "execution_count": null,
      "outputs": [
        {
          "output_type": "stream",
          "name": "stdout",
          "text": [
            "18\n"
          ]
        }
      ]
    },
    {
      "cell_type": "code",
      "execution_count": null,
      "metadata": {
        "colab": {
          "base_uri": "https://localhost:8080/"
        },
        "id": "ud7-5pU7YxW9",
        "outputId": "b55553f5-a0ec-4f42-d554-53565126d177"
      },
      "outputs": [
        {
          "output_type": "stream",
          "name": "stdout",
          "text": [
            "[6, 5, 4, 8, 3]\n",
            "[6, 5, 4, 8, 3, 6, 5, 4, 8, 3]\n"
          ]
        }
      ],
      "source": [
        "a = [6,5,4,8,3]\n",
        "print(a)\n",
        "print(a * 2)"
      ]
    },
    {
      "cell_type": "code",
      "source": [
        "for i in range(0,len(a)):\n",
        "  a[i] = a[i] * 2\n",
        "print(a)"
      ],
      "metadata": {
        "colab": {
          "base_uri": "https://localhost:8080/"
        },
        "id": "oAAqY-kMdrL3",
        "outputId": "0667cd6e-232b-46bf-b90b-837e1bf135b2"
      },
      "execution_count": null,
      "outputs": [
        {
          "output_type": "stream",
          "name": "stdout",
          "text": [
            "[12, 10, 8, 16, 6]\n"
          ]
        }
      ]
    },
    {
      "cell_type": "code",
      "source": [
        "import numpy as np\n",
        "\n",
        "n1 = np.array([6,5,4,8,3])\n",
        "print(n1)"
      ],
      "metadata": {
        "colab": {
          "base_uri": "https://localhost:8080/"
        },
        "id": "ZYZgvNWJd6Hm",
        "outputId": "6b8d736f-551f-4193-b056-04ff485f224d"
      },
      "execution_count": null,
      "outputs": [
        {
          "output_type": "stream",
          "name": "stdout",
          "text": [
            "[6 5 4 8 3]\n"
          ]
        }
      ]
    },
    {
      "cell_type": "code",
      "source": [
        "print(n1 * 2)"
      ],
      "metadata": {
        "colab": {
          "base_uri": "https://localhost:8080/"
        },
        "id": "1sg0lo41ePYn",
        "outputId": "6979bac3-ef97-4d98-928c-03b033325c36"
      },
      "execution_count": null,
      "outputs": [
        {
          "output_type": "stream",
          "name": "stdout",
          "text": [
            "[12 10  8 16  6]\n"
          ]
        }
      ]
    },
    {
      "cell_type": "code",
      "source": [
        "n2 = np.array([[1,2,3,4,5] , [4,8,3,2,1] , [9,8,7,6,5]])\n",
        "print(n2)"
      ],
      "metadata": {
        "colab": {
          "base_uri": "https://localhost:8080/"
        },
        "id": "tIPfiKmPeSze",
        "outputId": "aa535e61-c4e5-4eb0-8528-7ee9e966b243"
      },
      "execution_count": null,
      "outputs": [
        {
          "output_type": "stream",
          "name": "stdout",
          "text": [
            "[[1 2 3 4 5]\n",
            " [4 8 3 2 1]\n",
            " [9 8 7 6 5]]\n"
          ]
        }
      ]
    },
    {
      "cell_type": "code",
      "source": [
        "print(n2.shape)\n",
        "print(n2.ndim)\n",
        "print(n2.size)"
      ],
      "metadata": {
        "colab": {
          "base_uri": "https://localhost:8080/"
        },
        "id": "4QBOQUPber5F",
        "outputId": "54c248d3-8653-45f1-feaa-3a22a3ea9208"
      },
      "execution_count": null,
      "outputs": [
        {
          "output_type": "stream",
          "name": "stdout",
          "text": [
            "(3, 5)\n",
            "2\n",
            "15\n"
          ]
        }
      ]
    },
    {
      "cell_type": "code",
      "source": [
        "print(n2)"
      ],
      "metadata": {
        "colab": {
          "base_uri": "https://localhost:8080/"
        },
        "id": "CArp5bEjfTuL",
        "outputId": "95dde7cf-665b-40c9-db8b-2afb0ed07610"
      },
      "execution_count": null,
      "outputs": [
        {
          "output_type": "stream",
          "name": "stdout",
          "text": [
            "[[1 2 3 4 5]\n",
            " [4 8 3 2 1]\n",
            " [9 8 7 6 5]]\n"
          ]
        }
      ]
    },
    {
      "cell_type": "code",
      "source": [
        "#functions of Numpy\n",
        "print(np.sum(n2))\n",
        "print(np.min(n2))\n",
        "print(np.max(n2))\n",
        "print(np.mean(n2))\n",
        "print(np.std(n2))\n",
        "print(np.var(n2))\n",
        "print(np.median(n2))\n",
        "print(np.argmax(n2))\n",
        "print(np.argmin(n2))"
      ],
      "metadata": {
        "colab": {
          "base_uri": "https://localhost:8080/"
        },
        "id": "ZETpk9Qse4ba",
        "outputId": "30a36407-e84e-4e06-e004-a873a4878403"
      },
      "execution_count": null,
      "outputs": [
        {
          "output_type": "stream",
          "name": "stdout",
          "text": [
            "68\n",
            "1\n",
            "9\n",
            "4.533333333333333\n",
            "2.5263060428661888\n",
            "6.3822222222222225\n",
            "4.0\n",
            "10\n",
            "0\n"
          ]
        }
      ]
    },
    {
      "cell_type": "code",
      "source": [
        "print(n2)"
      ],
      "metadata": {
        "colab": {
          "base_uri": "https://localhost:8080/"
        },
        "id": "yFlm_OB9f8qy",
        "outputId": "f8cd0a41-eb9b-4dbe-b95a-c81e2eac1899"
      },
      "execution_count": null,
      "outputs": [
        {
          "output_type": "stream",
          "name": "stdout",
          "text": [
            "[[1 2 3 4 5]\n",
            " [4 8 3 2 1]\n",
            " [9 8 7 6 5]]\n"
          ]
        }
      ]
    },
    {
      "cell_type": "code",
      "source": [
        "#functions of Numpy -> valculation made on each row\n",
        "print(np.sum(n2 , axis = 1))\n",
        "print(np.min(n2 , axis = 1))\n",
        "print(np.max(n2 , axis = 1))\n",
        "print(np.mean(n2 , axis = 1))\n",
        "print(np.std(n2 , axis = 1))\n",
        "print(np.var(n2 , axis = 1))\n",
        "print(np.median(n2 , axis = 1))\n",
        "print(np.argmax(n2 , axis = 1))\n",
        "print(np.argmin(n2 , axis = 1))"
      ],
      "metadata": {
        "colab": {
          "base_uri": "https://localhost:8080/"
        },
        "id": "HXQNkeGkfSu9",
        "outputId": "335522cf-1044-4e47-ba6d-4cf9a72a9153"
      },
      "execution_count": null,
      "outputs": [
        {
          "output_type": "stream",
          "name": "stdout",
          "text": [
            "[15 18 35]\n",
            "[1 1 5]\n",
            "[5 8 9]\n",
            "[3.  3.6 7. ]\n",
            "[1.41421356 2.41660919 1.41421356]\n",
            "[2.   5.84 2.  ]\n",
            "[3. 3. 7.]\n",
            "[4 1 0]\n",
            "[0 4 4]\n"
          ]
        }
      ]
    },
    {
      "cell_type": "code",
      "source": [
        "#functions of Numpy -> valculation made on each columns\n",
        "print(np.sum(n2 , axis = 0))\n",
        "print(np.min(n2 , axis = 0))\n",
        "print(np.max(n2 , axis = 0))\n",
        "print(np.mean(n2 , axis = 0))\n",
        "print(np.std(n2 , axis = 0))\n",
        "print(np.var(n2 , axis = 0))\n",
        "print(np.median(n2 , axis = 0))\n",
        "print(np.argmax(n2 , axis = 0))\n",
        "print(np.argmin(n2 , axis = 0))"
      ],
      "metadata": {
        "colab": {
          "base_uri": "https://localhost:8080/"
        },
        "id": "VD4JPwwEgPLk",
        "outputId": "21f66802-e5c5-460e-db2e-db0aac704b1c"
      },
      "execution_count": null,
      "outputs": [
        {
          "output_type": "stream",
          "name": "stdout",
          "text": [
            "[14 18 13 12 11]\n",
            "[1 2 3 2 1]\n",
            "[9 8 7 6 5]\n",
            "[4.66666667 6.         4.33333333 4.         3.66666667]\n",
            "[3.29983165 2.82842712 1.88561808 1.63299316 1.88561808]\n",
            "[10.88888889  8.          3.55555556  2.66666667  3.55555556]\n",
            "[4. 8. 3. 4. 5.]\n",
            "[2 1 2 2 0]\n",
            "[0 0 0 1 1]\n"
          ]
        }
      ]
    },
    {
      "cell_type": "code",
      "source": [
        "#Selecting a row or a column => slicing\n",
        "\n",
        "print(n2)"
      ],
      "metadata": {
        "colab": {
          "base_uri": "https://localhost:8080/"
        },
        "id": "PVUK5SJegmUZ",
        "outputId": "59047706-f998-4253-fbf3-1d459a376173"
      },
      "execution_count": null,
      "outputs": [
        {
          "output_type": "stream",
          "name": "stdout",
          "text": [
            "[[1 2 3 4 5]\n",
            " [4 8 3 2 1]\n",
            " [9 8 7 6 5]]\n"
          ]
        }
      ]
    },
    {
      "cell_type": "code",
      "source": [
        "print(n2[0,1])       #array[row_index , column_index]\n",
        "print(n2[1,0])\n",
        "print(n2[1,3])"
      ],
      "metadata": {
        "colab": {
          "base_uri": "https://localhost:8080/"
        },
        "id": "jb0GqD1nhS4q",
        "outputId": "18f36670-a36d-4fb7-be11-ddbe339f98a5"
      },
      "execution_count": null,
      "outputs": [
        {
          "output_type": "stream",
          "name": "stdout",
          "text": [
            "2\n",
            "4\n",
            "2\n"
          ]
        }
      ]
    },
    {
      "cell_type": "code",
      "source": [
        "print(\"Row zero\" , n2[0])\n",
        "print()\n",
        "print(\"Row One\" , n2[1])\n",
        "print()\n",
        "print(\"Row two\" , n2[2])"
      ],
      "metadata": {
        "colab": {
          "base_uri": "https://localhost:8080/"
        },
        "id": "ie3Hf_-og0Y5",
        "outputId": "3e3242ba-cb11-429f-9390-cea4c874a75f"
      },
      "execution_count": null,
      "outputs": [
        {
          "output_type": "stream",
          "name": "stdout",
          "text": [
            "Row zero [1 2 3 4 5]\n",
            "\n",
            "Row One [4 8 3 2 1]\n",
            "\n",
            "Row two [9 8 7 6 5]\n"
          ]
        }
      ]
    },
    {
      "cell_type": "markdown",
      "source": [
        "* array[row slicing , column slicing]\n",
        "* array[row_initial_index : row_initial_index + number of rows , col_initial_index : col_initial_index + number of columns]"
      ],
      "metadata": {
        "id": "UxWkkuE0ieZe"
      }
    },
    {
      "cell_type": "code",
      "source": [
        "n2[:,0:1]"
      ],
      "metadata": {
        "colab": {
          "base_uri": "https://localhost:8080/"
        },
        "id": "RW6u6JRzhPcb",
        "outputId": "6855e777-23f9-4835-8963-b3cdc3c0968b"
      },
      "execution_count": null,
      "outputs": [
        {
          "output_type": "execute_result",
          "data": {
            "text/plain": [
              "array([[1],\n",
              "       [4],\n",
              "       [9]])"
            ]
          },
          "metadata": {},
          "execution_count": 24
        }
      ]
    },
    {
      "cell_type": "code",
      "source": [
        "n2[:,1:2]"
      ],
      "metadata": {
        "colab": {
          "base_uri": "https://localhost:8080/"
        },
        "id": "v6ZPSs4kiDXj",
        "outputId": "883a8015-c768-4d65-d936-685d30b78f7c"
      },
      "execution_count": null,
      "outputs": [
        {
          "output_type": "execute_result",
          "data": {
            "text/plain": [
              "array([[2],\n",
              "       [8],\n",
              "       [8]])"
            ]
          },
          "metadata": {},
          "execution_count": 25
        }
      ]
    },
    {
      "cell_type": "code",
      "source": [
        "n2[:,2:4]"
      ],
      "metadata": {
        "colab": {
          "base_uri": "https://localhost:8080/"
        },
        "id": "HjU4bdfyiS4M",
        "outputId": "c4f1b015-eee7-4978-a0b5-52507c7562bb"
      },
      "execution_count": null,
      "outputs": [
        {
          "output_type": "execute_result",
          "data": {
            "text/plain": [
              "array([[3, 4],\n",
              "       [3, 2],\n",
              "       [7, 6]])"
            ]
          },
          "metadata": {},
          "execution_count": 26
        }
      ]
    },
    {
      "cell_type": "code",
      "source": [
        "print(n2)"
      ],
      "metadata": {
        "colab": {
          "base_uri": "https://localhost:8080/"
        },
        "id": "aKySBGgKiVzM",
        "outputId": "fe757250-78bb-4206-e387-a54270803bd9"
      },
      "execution_count": null,
      "outputs": [
        {
          "output_type": "stream",
          "name": "stdout",
          "text": [
            "[[1 2 3 4 5]\n",
            " [4 8 3 2 1]\n",
            " [9 8 7 6 5]]\n"
          ]
        }
      ]
    },
    {
      "cell_type": "code",
      "source": [
        "print(n2[1:3,1:4])"
      ],
      "metadata": {
        "colab": {
          "base_uri": "https://localhost:8080/"
        },
        "id": "_fZs-ikQiz_S",
        "outputId": "f0d19cec-3a5b-48ee-f8d6-7ccbcc4ab2e5"
      },
      "execution_count": null,
      "outputs": [
        {
          "output_type": "stream",
          "name": "stdout",
          "text": [
            "[[8 3 2]\n",
            " [8 7 6]]\n"
          ]
        }
      ]
    },
    {
      "cell_type": "code",
      "source": [
        "print(n2[:,3:4])"
      ],
      "metadata": {
        "colab": {
          "base_uri": "https://localhost:8080/"
        },
        "id": "JDxq2vkQjPwn",
        "outputId": "cd1cccd8-12fe-4c21-9f29-a4713e38c535"
      },
      "execution_count": null,
      "outputs": [
        {
          "output_type": "stream",
          "name": "stdout",
          "text": [
            "[[4]\n",
            " [2]\n",
            " [6]]\n"
          ]
        }
      ]
    },
    {
      "cell_type": "code",
      "source": [
        "n3 = np.arange(0,36)        #array + range\n",
        "print(n3)"
      ],
      "metadata": {
        "colab": {
          "base_uri": "https://localhost:8080/"
        },
        "id": "o3wO0j5VjZB5",
        "outputId": "97950cdb-2f7c-451b-8708-ac83cf19e7e9"
      },
      "execution_count": null,
      "outputs": [
        {
          "output_type": "stream",
          "name": "stdout",
          "text": [
            "[ 0  1  2  3  4  5  6  7  8  9 10 11 12 13 14 15 16 17 18 19 20 21 22 23\n",
            " 24 25 26 27 28 29 30 31 32 33 34 35]\n"
          ]
        }
      ]
    },
    {
      "cell_type": "code",
      "source": [
        "#36 => (6,6),(4,9),(9,4),(3,12),(12,3),(2,18),(18,2),(1,36),(36,1)\n",
        "n4 = n3.reshape(6,6)\n",
        "print(n4)"
      ],
      "metadata": {
        "colab": {
          "base_uri": "https://localhost:8080/"
        },
        "id": "tF3fGHmyjin1",
        "outputId": "b149dd23-7c1c-4e0b-f72f-5334b92711c5"
      },
      "execution_count": null,
      "outputs": [
        {
          "output_type": "stream",
          "name": "stdout",
          "text": [
            "[[ 0  1  2  3  4  5]\n",
            " [ 6  7  8  9 10 11]\n",
            " [12 13 14 15 16 17]\n",
            " [18 19 20 21 22 23]\n",
            " [24 25 26 27 28 29]\n",
            " [30 31 32 33 34 35]]\n"
          ]
        }
      ]
    },
    {
      "cell_type": "code",
      "source": [
        "print(n4[2:6 , 3:6])"
      ],
      "metadata": {
        "colab": {
          "base_uri": "https://localhost:8080/"
        },
        "id": "AzzQiwBhj3aL",
        "outputId": "07bf546a-ca90-4582-bcee-6e57385377f0"
      },
      "execution_count": null,
      "outputs": [
        {
          "output_type": "stream",
          "name": "stdout",
          "text": [
            "[[15 16 17]\n",
            " [21 22 23]\n",
            " [27 28 29]\n",
            " [33 34 35]]\n"
          ]
        }
      ]
    },
    {
      "cell_type": "code",
      "source": [
        "print(n4[:,5:6])"
      ],
      "metadata": {
        "colab": {
          "base_uri": "https://localhost:8080/"
        },
        "id": "X-sQNfq7k3ee",
        "outputId": "775d753e-529b-41fc-d339-56a077bbf3b3"
      },
      "execution_count": null,
      "outputs": [
        {
          "output_type": "stream",
          "name": "stdout",
          "text": [
            "[[ 5]\n",
            " [11]\n",
            " [17]\n",
            " [23]\n",
            " [29]\n",
            " [35]]\n"
          ]
        }
      ]
    },
    {
      "cell_type": "code",
      "source": [
        "print(np.zeros([4,3]))"
      ],
      "metadata": {
        "colab": {
          "base_uri": "https://localhost:8080/"
        },
        "id": "YiUHjwcxl_AT",
        "outputId": "948cfe7a-5a3e-4d83-c9e1-83f41f60d3c0"
      },
      "execution_count": null,
      "outputs": [
        {
          "output_type": "stream",
          "name": "stdout",
          "text": [
            "[[0. 0. 0.]\n",
            " [0. 0. 0.]\n",
            " [0. 0. 0.]\n",
            " [0. 0. 0.]]\n"
          ]
        }
      ]
    },
    {
      "cell_type": "code",
      "source": [
        "print(np.ones([4,3]))"
      ],
      "metadata": {
        "colab": {
          "base_uri": "https://localhost:8080/"
        },
        "id": "gI8tmYzFmEdb",
        "outputId": "d30a6c38-a6dc-4a88-8a8f-287b32f19e65"
      },
      "execution_count": null,
      "outputs": [
        {
          "output_type": "stream",
          "name": "stdout",
          "text": [
            "[[1. 1. 1.]\n",
            " [1. 1. 1.]\n",
            " [1. 1. 1.]\n",
            " [1. 1. 1.]]\n"
          ]
        }
      ]
    },
    {
      "cell_type": "code",
      "source": [
        "print(np.eye(3))"
      ],
      "metadata": {
        "colab": {
          "base_uri": "https://localhost:8080/"
        },
        "id": "7p1L9vV4mGnP",
        "outputId": "1f8d7833-0dc3-400a-b1d0-f63786657018"
      },
      "execution_count": null,
      "outputs": [
        {
          "output_type": "stream",
          "name": "stdout",
          "text": [
            "[[1. 0. 0.]\n",
            " [0. 1. 0.]\n",
            " [0. 0. 1.]]\n"
          ]
        }
      ]
    },
    {
      "cell_type": "markdown",
      "source": [
        "**Broadcasting**"
      ],
      "metadata": {
        "id": "Zyr66rc_mPnJ"
      }
    },
    {
      "cell_type": "code",
      "source": [
        "a = np.array([[3,2,1,5] , [1,2,4,3]])\n",
        "print(a)"
      ],
      "metadata": {
        "colab": {
          "base_uri": "https://localhost:8080/"
        },
        "id": "0dtH7tx3mK81",
        "outputId": "5e9cc8a1-e0ed-42b8-d383-cb973efc9c7c"
      },
      "execution_count": null,
      "outputs": [
        {
          "output_type": "stream",
          "name": "stdout",
          "text": [
            "[[3 2 1 5]\n",
            " [1 2 4 3]]\n"
          ]
        }
      ]
    },
    {
      "cell_type": "code",
      "source": [
        "b = 2"
      ],
      "metadata": {
        "id": "vHW0jDkRmd3c"
      },
      "execution_count": null,
      "outputs": []
    },
    {
      "cell_type": "code",
      "source": [
        "print(a*b)"
      ],
      "metadata": {
        "colab": {
          "base_uri": "https://localhost:8080/"
        },
        "id": "EVGBeUPsmjlq",
        "outputId": "267eb6ed-6839-48b3-8b57-eb8d390dc6c5"
      },
      "execution_count": null,
      "outputs": [
        {
          "output_type": "stream",
          "name": "stdout",
          "text": [
            "[[ 6  4  2 10]\n",
            " [ 2  4  8  6]]\n"
          ]
        }
      ]
    },
    {
      "cell_type": "code",
      "source": [
        "c = [1,2,3,4]\n",
        "print(a * c)"
      ],
      "metadata": {
        "colab": {
          "base_uri": "https://localhost:8080/"
        },
        "id": "-DyLEo_bmvsf",
        "outputId": "d9002957-e180-4ce8-a0ca-44b43a0258a5"
      },
      "execution_count": null,
      "outputs": [
        {
          "output_type": "stream",
          "name": "stdout",
          "text": [
            "[[ 3  4  3 20]\n",
            " [ 1  4 12 12]]\n"
          ]
        }
      ]
    },
    {
      "cell_type": "code",
      "source": [
        "print(a)"
      ],
      "metadata": {
        "colab": {
          "base_uri": "https://localhost:8080/"
        },
        "id": "XYQir3q_nKXA",
        "outputId": "f386cac2-9342-4d66-f110-99bca8dbc5aa"
      },
      "execution_count": null,
      "outputs": [
        {
          "output_type": "stream",
          "name": "stdout",
          "text": [
            "[[3 2 1 5]\n",
            " [1 2 4 3]]\n"
          ]
        }
      ]
    },
    {
      "cell_type": "code",
      "source": [
        "d = [[1],[2]]\n",
        "\n",
        "print(a * d)"
      ],
      "metadata": {
        "colab": {
          "base_uri": "https://localhost:8080/"
        },
        "id": "AYYg9pksnEaH",
        "outputId": "acc6a367-7c14-406c-a6e6-5ef991ba9c0f"
      },
      "execution_count": null,
      "outputs": [
        {
          "output_type": "stream",
          "name": "stdout",
          "text": [
            "[[3 2 1 5]\n",
            " [2 4 8 6]]\n"
          ]
        }
      ]
    },
    {
      "cell_type": "code",
      "source": [
        "print(a)"
      ],
      "metadata": {
        "colab": {
          "base_uri": "https://localhost:8080/"
        },
        "id": "Csb4EgQWpE_L",
        "outputId": "d3a83862-a31c-4a41-9119-f647510454d2"
      },
      "execution_count": null,
      "outputs": [
        {
          "output_type": "stream",
          "name": "stdout",
          "text": [
            "[[3 2 1 5]\n",
            " [1 2 4 3]]\n"
          ]
        }
      ]
    },
    {
      "cell_type": "code",
      "source": [
        "e = np.array([[1,2],[3,4]])\n",
        "print(e)"
      ],
      "metadata": {
        "colab": {
          "base_uri": "https://localhost:8080/"
        },
        "id": "0Ao6jZYhpAJB",
        "outputId": "1466837c-4894-4967-a4f1-f7c77bfd785e"
      },
      "execution_count": null,
      "outputs": [
        {
          "output_type": "stream",
          "name": "stdout",
          "text": [
            "[[1 2]\n",
            " [3 4]]\n"
          ]
        }
      ]
    },
    {
      "cell_type": "code",
      "source": [
        "print(a*e)"
      ],
      "metadata": {
        "colab": {
          "base_uri": "https://localhost:8080/",
          "height": 169
        },
        "id": "vMkKanvkpHXB",
        "outputId": "db468deb-614c-4086-8931-3c18243ce4b0"
      },
      "execution_count": null,
      "outputs": [
        {
          "output_type": "error",
          "ename": "ValueError",
          "evalue": "operands could not be broadcast together with shapes (2,4) (2,2) ",
          "traceback": [
            "\u001b[0;31m---------------------------------------------------------------------------\u001b[0m",
            "\u001b[0;31mValueError\u001b[0m                                Traceback (most recent call last)",
            "\u001b[0;32m<ipython-input-50-fd730ad56323>\u001b[0m in \u001b[0;36m<cell line: 1>\u001b[0;34m()\u001b[0m\n\u001b[0;32m----> 1\u001b[0;31m \u001b[0mprint\u001b[0m\u001b[0;34m(\u001b[0m\u001b[0ma\u001b[0m\u001b[0;34m*\u001b[0m\u001b[0me\u001b[0m\u001b[0;34m)\u001b[0m\u001b[0;34m\u001b[0m\u001b[0;34m\u001b[0m\u001b[0m\n\u001b[0m",
            "\u001b[0;31mValueError\u001b[0m: operands could not be broadcast together with shapes (2,4) (2,2) "
          ]
        }
      ]
    },
    {
      "cell_type": "code",
      "source": [
        "f = np.array([[1],[3]])\n",
        "print(f)"
      ],
      "metadata": {
        "colab": {
          "base_uri": "https://localhost:8080/"
        },
        "id": "naVtY2BLpO60",
        "outputId": "20592320-453a-461d-bbf9-b85e7324c953"
      },
      "execution_count": null,
      "outputs": [
        {
          "output_type": "stream",
          "name": "stdout",
          "text": [
            "[[1]\n",
            " [3]]\n"
          ]
        }
      ]
    },
    {
      "cell_type": "code",
      "source": [
        "print(a*f)"
      ],
      "metadata": {
        "colab": {
          "base_uri": "https://localhost:8080/"
        },
        "id": "DNlrA3VjpT6h",
        "outputId": "e45a8fb3-26b0-4980-f7d9-c68a6e2fb64d"
      },
      "execution_count": null,
      "outputs": [
        {
          "output_type": "stream",
          "name": "stdout",
          "text": [
            "[[ 3  2  1  5]\n",
            " [ 3  6 12  9]]\n"
          ]
        }
      ]
    },
    {
      "cell_type": "markdown",
      "source": [
        "* array()\n",
        "* mathematical_functions - sum(),mean(),min(),max() etc.\n",
        "* slicing\n",
        "* arange()\n",
        "* reshape()\n",
        "* zeros()\n",
        "* ones()\n",
        "* eye()\n",
        "* broadcasting"
      ],
      "metadata": {
        "id": "eYXlaS_tl5DT"
      }
    },
    {
      "cell_type": "code",
      "source": [],
      "metadata": {
        "id": "qM-5qtiiliE5"
      },
      "execution_count": null,
      "outputs": []
    }
  ]
}